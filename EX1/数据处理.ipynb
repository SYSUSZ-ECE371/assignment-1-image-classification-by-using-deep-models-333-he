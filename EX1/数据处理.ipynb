{
 "cells": [
  {
   "cell_type": "code",
   "execution_count": 6,
   "metadata": {},
   "outputs": [],
   "source": [
    "import os\n",
    "import random\n",
    "import shutil\n",
    "from pathlib import Path\n",
    "\n",
    "def prepare_flower_dataset(input_dir, output_dir, train_ratio=0.8):\n",
    "    \"\"\"\n",
    "    准备flower数据集，按照ImageNet格式组织\n",
    "    \n",
    "    参数:\n",
    "        input_dir: 原始数据集目录，包含5个子目录(daisy, dandelion, rose, sunflower, tulip)\n",
    "        output_dir: 输出目录，将在此目录下创建ImageNet格式的数据集\n",
    "        train_ratio: 训练集比例，默认为0.8\n",
    "        random_seed: 随机种子，默认为42\n",
    "\n",
    "    \"\"\"\n",
    "    # 确保输出目录存在\n",
    "    output_dir = Path(output_dir)\n",
    "    output_dir.mkdir(parents=True, exist_ok=True)\n",
    "    \n",
    "    # 创建train和val目录\n",
    "    train_dir = output_dir / 'train'\n",
    "    val_dir = output_dir / 'val'\n",
    "    train_dir.mkdir(exist_ok=True)\n",
    "    val_dir.mkdir(exist_ok=True)\n",
    "    \n",
    "    # 类别列表\n",
    "    classes = ['daisy', 'dandelion', 'rose', 'sunflower', 'tulip']\n",
    "    \n",
    "    # 创建classes.txt文件\n",
    "    with open(output_dir / 'classes.txt', 'w') as f:\n",
    "        f.write('\\n'.join(classes))\n",
    "    \n",
    "    # 准备训练集和验证集的标注文件\n",
    "    train_annotations = []\n",
    "    val_annotations = []\n",
    "    \n",
    "    for class_idx, class_name in enumerate(classes):\n",
    "        # 创建train和val中的子目录\n",
    "        (train_dir / class_name).mkdir(exist_ok=True)\n",
    "        (val_dir / class_name).mkdir(exist_ok=True)\n",
    "        \n",
    "        # 获取原始目录中的所有图片\n",
    "        src_dir = Path(input_dir) / class_name\n",
    "        image_files = list(src_dir.glob('*.jpg')) + list(src_dir.glob('*.jpeg')) + list(src_dir.glob('*.png'))\n",
    "        \n",
    "        # 随机打乱图片顺序\n",
    "        random.shuffle(image_files)\n",
    "        \n",
    "        # 计算分割点\n",
    "        split_idx = int(len(image_files) * train_ratio)\n",
    "        \n",
    "        # 处理训练集\n",
    "        for img_path in image_files[:split_idx]:\n",
    "            dst_path = train_dir / class_name / img_path.name\n",
    "            shutil.copy(img_path, dst_path)\n",
    "            train_annotations.append(f\"{class_name}/{img_path.name} {class_idx}\")\n",
    "        \n",
    "        # 处理验证集\n",
    "        for img_path in image_files[split_idx:]:\n",
    "            dst_path = val_dir / class_name / img_path.name\n",
    "            shutil.copy(img_path, dst_path)\n",
    "            val_annotations.append(f\"{class_name}/{img_path.name} {class_idx}\")\n",
    "    \n",
    "    # 写入标注文件\n",
    "    with open(output_dir / 'train.txt', 'w') as f:\n",
    "        f.write('\\n'.join(train_annotations))\n",
    "    \n",
    "    with open(output_dir / 'val.txt', 'w') as f:\n",
    "        f.write('\\n'.join(val_annotations))\n",
    "    \n",
    "    print(f\"数据集准备完成，保存在: {output_dir}\")\n",
    "    print(f\"训练集样本数: {len(train_annotations)}\")\n",
    "    print(f\"验证集样本数: {len(val_annotations)}\")\n",
    "\n"
   ]
  },
  {
   "cell_type": "code",
   "execution_count": 8,
   "metadata": {},
   "outputs": [
    {
     "name": "stdout",
     "output_type": "stream",
     "text": [
      "数据集准备完成，保存在: /Users/niezhiqi/Desktop/课程/深度学习/hw1/EX1/processed_flower_dataset\n",
      "训练集样本数: 2276\n",
      "验证集样本数: 572\n"
     ]
    }
   ],
   "source": [
    "if __name__ == \"__main__\":\n",
    "    input_directory = \"/Users/niezhiqi/Desktop/课程/深度学习/hw1/EX1/flower_dataset\"\n",
    "    output_directory = \"/Users/niezhiqi/Desktop/课程/深度学习/hw1/EX1/processed_flower_dataset\"\n",
    "    seed = 42\n",
    "    prepare_flower_dataset(input_directory, output_directory)\n"
   ]
  },
  {
   "cell_type": "code",
   "execution_count": null,
   "metadata": {},
   "outputs": [],
   "source": []
  },
  {
   "cell_type": "code",
   "execution_count": 5,
   "metadata": {},
   "outputs": [
    {
     "ename": "FileNotFoundError",
     "evalue": "[Errno 2] No such file or directory: '/Users/niezhiqi/Desktop/课程/深度学习/hw1/EX1/processed_flower_dataset/val/daisy/'",
     "output_type": "error",
     "traceback": [
      "\u001b[31m---------------------------------------------------------------------------\u001b[39m",
      "\u001b[31mFileNotFoundError\u001b[39m                         Traceback (most recent call last)",
      "\u001b[36mCell\u001b[39m\u001b[36m \u001b[39m\u001b[32mIn[5]\u001b[39m\u001b[32m, line 29\u001b[39m\n\u001b[32m     27\u001b[39m \u001b[38;5;66;03m# 移动验证集图片\u001b[39;00m\n\u001b[32m     28\u001b[39m \u001b[38;5;28;01mfor\u001b[39;00m 路径 \u001b[38;5;129;01min\u001b[39;00m 验证路径:\n\u001b[32m---> \u001b[39m\u001b[32m29\u001b[39m     \u001b[43mshutil\u001b[49m\u001b[43m.\u001b[49m\u001b[43mcopy2\u001b[49m\u001b[43m(\u001b[49m\u001b[43m路径\u001b[49m\u001b[43m,\u001b[49m\u001b[43m \u001b[49m\u001b[33;43mf\u001b[39;49m\u001b[33;43m\"\u001b[39;49m\u001b[38;5;132;43;01m{\u001b[39;49;00m\u001b[43m输出路径\u001b[49m\u001b[38;5;132;43;01m}\u001b[39;49;00m\u001b[33;43m/val/\u001b[39;49m\u001b[38;5;132;43;01m{\u001b[39;49;00m\u001b[43m类别\u001b[49m\u001b[38;5;132;43;01m}\u001b[39;49;00m\u001b[33;43m/\u001b[39;49m\u001b[33;43m\"\u001b[39;49m\u001b[43m)\u001b[49m\n",
      "\u001b[36mFile \u001b[39m\u001b[32m~/miniconda3/envs/25ML/lib/python3.12/shutil.py:475\u001b[39m, in \u001b[36mcopy2\u001b[39m\u001b[34m(src, dst, follow_symlinks)\u001b[39m\n\u001b[32m    472\u001b[39m         \u001b[38;5;28;01melse\u001b[39;00m:\n\u001b[32m    473\u001b[39m             \u001b[38;5;28;01mraise\u001b[39;00m\n\u001b[32m--> \u001b[39m\u001b[32m475\u001b[39m \u001b[43mcopyfile\u001b[49m\u001b[43m(\u001b[49m\u001b[43msrc\u001b[49m\u001b[43m,\u001b[49m\u001b[43m \u001b[49m\u001b[43mdst\u001b[49m\u001b[43m,\u001b[49m\u001b[43m \u001b[49m\u001b[43mfollow_symlinks\u001b[49m\u001b[43m=\u001b[49m\u001b[43mfollow_symlinks\u001b[49m\u001b[43m)\u001b[49m\n\u001b[32m    476\u001b[39m copystat(src, dst, follow_symlinks=follow_symlinks)\n\u001b[32m    477\u001b[39m \u001b[38;5;28;01mreturn\u001b[39;00m dst\n",
      "\u001b[36mFile \u001b[39m\u001b[32m~/miniconda3/envs/25ML/lib/python3.12/shutil.py:262\u001b[39m, in \u001b[36mcopyfile\u001b[39m\u001b[34m(src, dst, follow_symlinks)\u001b[39m\n\u001b[32m    260\u001b[39m \u001b[38;5;28;01mwith\u001b[39;00m \u001b[38;5;28mopen\u001b[39m(src, \u001b[33m'\u001b[39m\u001b[33mrb\u001b[39m\u001b[33m'\u001b[39m) \u001b[38;5;28;01mas\u001b[39;00m fsrc:\n\u001b[32m    261\u001b[39m     \u001b[38;5;28;01mtry\u001b[39;00m:\n\u001b[32m--> \u001b[39m\u001b[32m262\u001b[39m         \u001b[38;5;28;01mwith\u001b[39;00m \u001b[38;5;28;43mopen\u001b[39;49m\u001b[43m(\u001b[49m\u001b[43mdst\u001b[49m\u001b[43m,\u001b[49m\u001b[43m \u001b[49m\u001b[33;43m'\u001b[39;49m\u001b[33;43mwb\u001b[39;49m\u001b[33;43m'\u001b[39;49m\u001b[43m)\u001b[49m \u001b[38;5;28;01mas\u001b[39;00m fdst:\n\u001b[32m    263\u001b[39m             \u001b[38;5;66;03m# macOS\u001b[39;00m\n\u001b[32m    264\u001b[39m             \u001b[38;5;28;01mif\u001b[39;00m _HAS_FCOPYFILE:\n\u001b[32m    265\u001b[39m                 \u001b[38;5;28;01mtry\u001b[39;00m:\n",
      "\u001b[31mFileNotFoundError\u001b[39m: [Errno 2] No such file or directory: '/Users/niezhiqi/Desktop/课程/深度学习/hw1/EX1/processed_flower_dataset/val/daisy/'"
     ]
    }
   ],
   "source": [
    "import os\n",
    "import shutil\n",
    "import random\n",
    "from sklearn.model_selection import train_test_split  # 需提前安装：\n",
    "\n",
    "# 配置参数\n",
    "原始数据集路径 = \"/Users/niezhiqi/Desktop/课程/深度学习/hw1/EX1/flower_dataset\"  \n",
    "输出路径 = \"/Users/niezhiqi/Desktop/课程/深度学习/hw1/EX1/processed_flower_dataset\"  # 处理后的数据集根目录\n",
    "训练验证比例 = 0.8  # 训练集占比80%\n",
    "随机种子 = 42  # 固定随机种子确保可复现\n",
    "\n",
    "# 创建输出目录结构\n",
    "os.makedirs(f\"{输出路径}/train\", exist_ok=True)\n",
    "os.makedirs(f\"{输出路径}/val\", exist_ok=True)\n",
    "os.makedirs(f\"{输出路径}/train/daisy\", exist_ok=True)\n",
    "# 重复上述代码创建其他类别文件夹（dandelion、rose、sunflower、tulip）\n",
    "\n",
    "# 遍历每个类别，划分数据集\n",
    "for 类别 in [\"daisy\", \"dandelion\", \"rose\", \"sunflower\", \"tulip\"]:\n",
    "    图片路径列表 = [os.path.join(原始数据集路径, 类别, f) for f in os.listdir(os.path.join(原始数据集路径, 类别))]\n",
    "    训练路径, 验证路径 = train_test_split(图片路径列表, train_size=训练验证比例, random_state=随机种子)\n",
    "    \n",
    "    # 移动训练集图片\n",
    "    for 路径 in 训练路径:\n",
    "        shutil.copy2(路径, f\"{输出路径}/train/{类别}/\")\n",
    "    \n",
    "    # 移动验证集图片\n",
    "    for 路径 in 验证路径:\n",
    "        shutil.copy2(路径, f\"{输出路径}/val/{类别}/\")"
   ]
  }
 ],
 "metadata": {
  "kernelspec": {
   "display_name": "25ML",
   "language": "python",
   "name": "python3"
  },
  "language_info": {
   "codemirror_mode": {
    "name": "ipython",
    "version": 3
   },
   "file_extension": ".py",
   "mimetype": "text/x-python",
   "name": "python",
   "nbconvert_exporter": "python",
   "pygments_lexer": "ipython3",
   "version": "3.12.9"
  }
 },
 "nbformat": 4,
 "nbformat_minor": 2
}
